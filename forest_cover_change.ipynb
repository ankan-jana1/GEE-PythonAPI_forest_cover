{
 "cells": [
  {
   "cell_type": "code",
   "execution_count": 145,
   "id": "5fa0b777-52e4-4581-9e42-0d92206eee79",
   "metadata": {},
   "outputs": [],
   "source": [
    "#Import libraries\n",
    "import os\n",
    "import ee\n",
    "import geemap\n",
    "#initialisation of earth engine\n",
    "ee.Initialize()"
   ]
  },
  {
   "cell_type": "code",
   "execution_count": 179,
   "id": "c1939d20-5025-4dc5-b751-43f0821610c6",
   "metadata": {},
   "outputs": [
    {
     "data": {
      "application/vnd.jupyter.widget-view+json": {
       "model_id": "e9ad76c056bb43ce82ee71070a01eb39",
       "version_major": 2,
       "version_minor": 0
      },
      "text/plain": [
       "Map(center=[30.971881310135245, 78.60297713823928], controls=(WidgetControl(options=['position', 'transparent_…"
      ]
     },
     "metadata": {},
     "output_type": "display_data"
    }
   ],
   "source": [
    "#import area of interest\n",
    "Map=geemap.Map()\n",
    "aoi_shp = r'.....\\uttarkashi.shp'\n",
    "aoi = geemap.shp_to_ee(aoi_shp)\n",
    "Map.addLayer(aoi, {}, 'boundary')\n",
    "#Map.addLayer({'eeObject': aoi_shp, 'color': 'FF0000'}, {}, 'Shapefile Boundary')\n",
    "\n",
    "Map.centerObject(aoi,9)\n",
    "Map"
   ]
  },
  {
   "cell_type": "code",
   "execution_count": 191,
   "id": "216010cc-44d1-42d9-a015-8f5a6ab20410",
   "metadata": {},
   "outputs": [
    {
     "data": {
      "application/vnd.jupyter.widget-view+json": {
       "model_id": "e9ad76c056bb43ce82ee71070a01eb39",
       "version_major": 2,
       "version_minor": 0
      },
      "text/plain": [
       "Map(bottom=107634.0, center=[30.970544333076077, 78.62228393554689], controls=(WidgetControl(options=['positio…"
      ]
     },
     "metadata": {},
     "output_type": "display_data"
    }
   ],
   "source": [
    "image= ee.ImageCollection(\"LANDSAT/LC08/C01/T1_SR\")\\\n",
    "    .filterDate('2013-11-10', '2013-12-31')\\\n",
    "    .filterBounds(aoi)\\\n",
    "    .sort('CLOUD_COVER')\\\n",
    "    #.first()\n",
    "#print(ee.Date(image.get('system:time_start')).format('YYYY-MM-dd').getInfo())\n",
    "bands=['B1', 'B2', 'B3', 'B4', 'B5', 'B7']\n",
    "composite = image.median().select(bands)\\\n",
    "    .clip(aoi)\n",
    "vis_params = {'min': 0, 'max': 3000, 'bands': ['B5', 'B4', 'B3']}\n",
    "\n",
    "#Map.centerObject(aoi, 9)\n",
    "Map.addLayer(composite, vis_params, \"Landsat-8_2013\")\n",
    "props = geemap.image_props(composite)\n",
    "props.getInfo()\n",
    "# Make the training dataset.\n",
    "\n",
    "points = composite.sample(\n",
    "    **{\n",
    "        'region': aoi,\n",
    "        'scale': 30,\n",
    "        'numPixels': 20000,\n",
    "        'seed': 0,\n",
    "        'geometries': True,  # Set this to False to ignore geometries\n",
    "    }\n",
    ")\n",
    "# Instantiate the clusterer and train it.\n",
    "n_clusters = 8\n",
    "clusterer = ee.Clusterer.wekaKMeans(n_clusters).train(points)\n",
    "# Cluster the input using the trained clusterer.\n",
    "lulc2013 = composite.cluster(clusterer)\n",
    "\n",
    "# # Display the clusters with random colors.\n",
    "#Map.addLayer(lulc2013.randomVisualizer(), {}, 'clusters')\n",
    "legend_keys = ['Forest', 'non_forest']\n",
    "legend_colors = ['green', 'yellow',]\n",
    "\n",
    "# Reclassify the map\n",
    "#result = result.remap([0, 1, 2, 3, 4, 5, 6, 7, 8, 9, 10, 11, 12, 13, 14, 15, 16, 17, 18, 19], [1, 1, 1, 1, 1, 2, 1, 1, 1, 1, 2, 1, 3, 1, 1, 1, 3, 3, 3, 3])\n",
    "lulc_2013 = lulc2013.remap([0, 1, 2, 3, 4, 5, 6, 7 ], [1, 2, 2, 1, 1, 2, 1, 2])\n",
    "\n",
    "Map.addLayer(lulc_2013, {'min': 1, 'max': 2, 'palette': legend_colors}, 'LULC_2013')\n",
    "forest_2013 = lulc_2013.updateMask(lulc_2013.neq(2))\n",
    "Map.addLayer(forest_2013, {'palette': 'blue'}, 'forest_2013')\n",
    "Map"
   ]
  },
  {
   "cell_type": "code",
   "execution_count": null,
   "id": "3941585b-0b93-4c7b-a61a-d24b64b58eec",
   "metadata": {},
   "outputs": [],
   "source": [
    "# Export the map as an image\n",
    "export_params = {\n",
    "    'image': Map.toImage(),\n",
    "    'description': 'layout_export',\n",
    "    'scale': 30,  # Adjust the scale based on your raster resolution\n",
    "    'region': aoi\n",
    "}\n",
    "\n",
    "# Start the export task\n",
    "task = ee.batch.Export.image.toDrive(**export_params)\n",
    "task.start()"
   ]
  },
  {
   "cell_type": "code",
   "execution_count": null,
   "id": "6f886868-8134-4c6a-9a15-4c78db16734a",
   "metadata": {},
   "outputs": [],
   "source": [
    "geom=aoi.geometry()\n",
    "out_dir = r'.....'\n",
    "out_file = os.path.join(out_dir, 'forest_2013.tif')\n",
    "geemap.ee_export_image(Map.toImage(), filename=out_file, scale=90, region=geom)\n",
    "#out_file = os.path.join(out_dir, 'landcover_2023.tif')\n",
    "#geemap.ee_export_image(forest_2023, filename=out_file, scale=90, region=geom)"
   ]
  },
  {
   "cell_type": "code",
   "execution_count": null,
   "id": "9c939ce1-a799-453c-bcc1-2054e5677185",
   "metadata": {},
   "outputs": [],
   "source": [
    "#calculate area of region and forest area and print it on the screen\n",
    "stats = forest_2013.multiply(ee.Image.pixelArea()).reduceRegion(\n",
    "  reducer= ee.Reducer.sum(),\n",
    "  geometry= aoi,\n",
    "  scale= 30,\n",
    "  maxPixels= 1e13,\n",
    "  tileScale= 30);\n",
    "\n",
    "forest_area_2013 = ee.Number(stats.get('sum')).divide(1000000).round();\n",
    "print('Forest Area (sq.km.) in  2013', forest_area_2013);"
   ]
  },
  {
   "cell_type": "code",
   "execution_count": 193,
   "id": "e552f37d-3b27-4cbc-8a8e-fbc92353c0ed",
   "metadata": {},
   "outputs": [],
   "source": [
    "sentinel2= ee.ImageCollection(\"COPERNICUS/S2_HARMONIZED\")\\\n",
    "    .filterDate('2023-12-01', '2023-12-31')\\\n",
    "    .filter(ee.Filter.lt('CLOUDY_PIXEL_PERCENTAGE',20))\\\n",
    "    .filterBounds(aoi);\n",
    "    #.first()\n",
    "    \n",
    "bands=['B2', 'B3', 'B4', 'B8', 'B11', 'B12']    \n",
    "composite = sentinel2.median().select(['B8', 'B4', 'B3'])\\\n",
    "    .clip(aoi)\n",
    "vis_params = {'min': 0, 'max': 3000, 'bands': ['B8', 'B4', 'B3']}\n",
    "\n",
    "#Map.centerObject(aoi, 9)\n",
    "Map.addLayer(composite, vis_params, \"Sentinel-2_2023\")\n",
    "\n",
    "\n",
    "\n",
    "props = geemap.image_props(composite)\n",
    "props.getInfo()\n",
    "# Make the training dataset.\n",
    "points = composite.sample(\n",
    "    **{\n",
    "        'region': aoi,\n",
    "        'scale': 10,\n",
    "        'numPixels': 20000,\n",
    "        'seed': 0,\n",
    "        'geometries': True,  # Set this to False to ignore geometries\n",
    "    }\n",
    ")\n",
    "# Instantiate the clusterer and train it.\n",
    "n_clusters = 8\n",
    "clusterer = ee.Clusterer.wekaKMeans(n_clusters).train(points)\n",
    "# Cluster the input using the trained clusterer.\n",
    "lulc2023 = composite.cluster(clusterer)\n",
    "\n",
    "# # Display the clusters with random colors.\n",
    "#Map.addLayer(lulc2023.randomVisualizer(), {}, 'clusters')\n",
    "legend_keys = ['Forest', 'Non_forest']\n",
    "legend_colors = ['Green', 'yellow']\n",
    "\n",
    "# Reclassify the map\n",
    "#result = result.remap([0, 1, 2, 3, 4, 5, 6, 7, 8, 9, 10, 11, 12, 13, 14, 15], [3, 1, 2, 3, 1, 2, 1, 4, 3, 3, 5, 11, 12, 13, 14, 15])\n",
    "lulc_2023 = lulc2023.remap([0, 1, 2, 3, 4, 5, 6, 7], [2, 1, 2, 1, 2, 2, 1, 2,])\n",
    "\n",
    "Map.addLayer(lulc_2023, {'min': 1, 'max': 2, 'palette': legend_colors}, 'LULC_2023')\n",
    "forest_2023 = lulc_2023.updateMask(lulc_2023.neq(2))\n",
    "Map.addLayer(forest_2023, {'palette': 'green'}, 'forest_2023')\n"
   ]
  },
  {
   "cell_type": "code",
   "execution_count": null,
   "id": "3889fa51-6a46-4bcc-a451-6863499867b6",
   "metadata": {},
   "outputs": [],
   "source": [
    "#calculate area of region and forest area and print it on the screen\n",
    "stats = difference_image.multiply(ee.Image.pixelArea()).reduceRegion(\n",
    "  reducer= ee.Reducer.sum(),\n",
    "  geometry= aoi,\n",
    "  scale= 30,\n",
    "  maxPixels= 1e13,\n",
    "  tileScale= 30);\n",
    "\n",
    "difference_image = ee.Number(stats.get('sum')).divide(1000000).round();\n",
    "print('Forest Area (sq.km.) in  2023', difference_image);"
   ]
  },
  {
   "cell_type": "code",
   "execution_count": 188,
   "id": "cac85ebb-51ea-4fe9-a44f-926b3c3776c5",
   "metadata": {},
   "outputs": [
    {
     "data": {
      "application/vnd.jupyter.widget-view+json": {
       "model_id": "e9ad76c056bb43ce82ee71070a01eb39",
       "version_major": 2,
       "version_minor": 0
      },
      "text/plain": [
       "Map(bottom=107634.0, center=[30.970544333076077, 78.69232152304562], controls=(WidgetControl(options=['positio…"
      ]
     },
     "metadata": {},
     "output_type": "display_data"
    }
   ],
   "source": [
    "mask1=forest_2013.mask()\n",
    "mask2=forest_2023.mask()\n",
    "coverage_difference_mask = mask1.neq(mask2)\n",
    "difference_image = forest_2013.updateMask(coverage_difference_mask)\n",
    "#change_mask = lulc_2023.subtract(lulc_2013).gt(0).rename('change_detection')\n",
    "#change_detection = forest_2013.updateMask(change_mask)\n",
    "#change_detection = forest_2023.subtract(forest_2013).neq(0).rename('change_detection')\n",
    "#change_detection = forest_2023.subtract(forest_2013).abs().rename('ChangeDetection')\n",
    "#change_detection = forest_2023.lt(forest_2013)\n",
    "#decreased_area_image2 = forest_2023.updateMask(change_detection)\n",
    "#coverage_difference_mask = forest_2023.mask().eq(forest_2013.mask()).clip(aoi)\n",
    "Map.addLayer(difference_image, {'palette': 'red'}, 'forest_change')\n",
    "Map"
   ]
  },
  {
   "cell_type": "code",
   "execution_count": 23,
   "id": "32b48c38-1a2e-4e00-90ed-f2c8e6c29911",
   "metadata": {},
   "outputs": [
    {
     "name": "stdout",
     "output_type": "stream",
     "text": [
      "Generating URL ...\n",
      "Downloading data from https://earthengine.googleapis.com/v1alpha/projects/earthengine-legacy/thumbnails/0f45b686dd62f3c5da28212ad0b32bfb-69a8374c98ef4cc6556d970623cc3c51:getPixels\n",
      "Please wait ...\n",
      "Data downloaded to D:\\Ankan\\Extra\\recruitment\\amrut\\landcover_2013.tif\n",
      "Generating URL ...\n",
      "Downloading data from https://earthengine.googleapis.com/v1alpha/projects/earthengine-legacy/thumbnails/96c19887adf0827fd9d3b03d63414f52-a2628822c1c3e5cf09f7196bd25ec176:getPixels\n",
      "Please wait ...\n",
      "Data downloaded to D:\\Ankan\\Extra\\recruitment\\amrut\\landcover_2023.tif\n"
     ]
    }
   ],
   "source": [
    "geom=aoi.geometry()\n",
    "out_dir = r'D:\\Ankan\\Extra\\recruitment\\amrut'\n",
    "out_file = os.path.join(out_dir, 'landcover_2013.tif')\n",
    "geemap.ee_export_image(forest_2013, filename=out_file, scale=90, region=geom)\n",
    "out_file = os.path.join(out_dir, 'landcover_2023.tif')\n",
    "geemap.ee_export_image(forest_2023, filename=out_file, scale=90, region=geom)"
   ]
  },
  {
   "cell_type": "code",
   "execution_count": null,
   "id": "f9d15689-fa7c-42ff-b503-f902b919e0dc",
   "metadata": {},
   "outputs": [],
   "source": []
  }
 ],
 "metadata": {
  "kernelspec": {
   "display_name": "Python 3 (ipykernel)",
   "language": "python",
   "name": "python3"
  },
  "language_info": {
   "codemirror_mode": {
    "name": "ipython",
    "version": 3
   },
   "file_extension": ".py",
   "mimetype": "text/x-python",
   "name": "python",
   "nbconvert_exporter": "python",
   "pygments_lexer": "ipython3",
   "version": "3.11.0"
  }
 },
 "nbformat": 4,
 "nbformat_minor": 5
}
